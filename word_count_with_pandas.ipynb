{
 "cells": [
  {
   "cell_type": "code",
   "execution_count": 1,
   "metadata": {
    "collapsed": true
   },
   "outputs": [],
   "source": [
    "import pandas as pd\n",
    "import numpy as np\n",
    "%matplotlib inline\n",
    "import matplotlib.pyplot as plt \n",
    "import sys"
   ]
  },
  {
   "cell_type": "code",
   "execution_count": 2,
   "metadata": {
    "collapsed": true
   },
   "outputs": [],
   "source": [
    "def read_file(filename, encode = 'UTF-8'):\n",
    "    \"\"\"\n",
    "    Read the text file with the given filename;\n",
    "    return a list of the words of text in the file; ignore punctuations.\n",
    "    also returns the longest word length in the file.\n",
    "    \"\"\"\n",
    "    punctuation_set = set(u'''_—＄％＃＆:#$&!),.:;?]}¢'\"、。〉》」』】〕〗〞︰︱︳﹐､﹒\n",
    "    ﹔﹕﹖﹗﹚﹜﹞！），．：；？｜｝︴︶︸︺︼︾﹀﹂﹄﹏､～￠\n",
    "    々‖•·ˇˉ―--′’”([{£¥'\"‵〈《「『【〔〖（［｛￡￥〝︵︷︹︻\n",
    "    ︽︿﹁﹃﹙﹛﹝（｛“‘-—_…''')\n",
    "    num = 0\n",
    "    word_list = []\n",
    "    with open(filename, \"r\", encoding = encode) as file:\n",
    "        for line in file:\n",
    "            l = line.split()\n",
    "            for word in l:\n",
    "                new_word = ''\n",
    "                ch_list = list(word)\n",
    "                for c in ch_list:\n",
    "                    if c not in punctuation_set and not c == \"_\":\n",
    "                        new_word = new_word + c\n",
    "                if not len(new_word) == 0: \n",
    "                    word_list.append(word)\n",
    "                    if len(word) > num:\n",
    "                        num = len(word)\n",
    "                    \n",
    "    print(\"Read file successfully!\")\n",
    "    return word_list, num\n",
    "    "
   ]
  },
  {
   "cell_type": "code",
   "execution_count": 3,
   "metadata": {
    "collapsed": true
   },
   "outputs": [],
   "source": [
    "def count_frequency(word_list):\n",
    "    \"\"\"\n",
    "    Input: a list containing words or characters\n",
    "    Return: a dictionary mapping words to frequency.\n",
    "    \"\"\"\n",
    "    D = {}\n",
    "    for new_word in word_list:\n",
    "        if new_word in D:\n",
    "            D[new_word] = D[new_word]+1\n",
    "        else:\n",
    "            D[new_word] = 1\n",
    "    return D"
   ]
  },
  {
   "cell_type": "code",
   "execution_count": 4,
   "metadata": {
    "collapsed": true
   },
   "outputs": [],
   "source": [
    "def decide_seq_order(word_list):\n",
    "    \"\"\"\n",
    "    Input: a list containing words or characters\n",
    "    Return: a dictionary mapping each word to its sequential number, which is decided by the order it \n",
    "            first appears in the word_list.\n",
    "            \n",
    "            And a list containg non-repetitive words, each in the order it first appears in word_list.\n",
    "    \"\"\"\n",
    "    D = {}\n",
    "    another_list = []\n",
    "    for word in word_list:\n",
    "        if word not in another_list:\n",
    "            another_list.append(word)\n",
    "    for num in range(len(another_list)):\n",
    "        D[another_list[num]] = num + 1\n",
    "    \n",
    "    return D, another_list"
   ]
  },
  {
   "cell_type": "code",
   "execution_count": 5,
   "metadata": {
    "collapsed": true
   },
   "outputs": [],
   "source": [
    "def transfrom_wordlist_into_charlist(word_list):\n",
    "    \"\"\"Divide each words in the word_list into characters, order reserved.\n",
    "    Input: a list containing words\n",
    "    Return: a list containg char, \n",
    "    \"\"\"\n",
    "    char_list = []\n",
    "    for word in word_list:\n",
    "        char_list.extend(list(word))\n",
    "        \n",
    "    return char_list"
   ]
  },
  {
   "cell_type": "code",
   "execution_count": 6,
   "metadata": {
    "collapsed": true
   },
   "outputs": [],
   "source": [
    "def produce_data_frame(word_list, word_freq, word_seq,varibleTitle ):\n",
    "    word_list = list(set(word_list))\n",
    "    data = {}\n",
    "    word_seq_list = []\n",
    "    word_freq_list = []\n",
    "    \n",
    "    for word in word_list:\n",
    "        word_freq_list.append(word_freq[word])\n",
    "        word_seq_list.append(word_seq[word])\n",
    "    \n",
    "    first = varibleTitle \n",
    "    second = varibleTitle + \"SeqOrder\"\n",
    "    third = varibleTitle + \"Freq\"\n",
    "    forth = varibleTitle + \"Rank\"\n",
    "    \n",
    "    data[first] = word_list\n",
    "    data[second] = word_seq_list\n",
    "    data[third] = word_freq_list\n",
    "    \n",
    "    dataFrame = pd.DataFrame(data)\n",
    "    dataFrame = dataFrame.sort_values([third, second],ascending = [False,True])\n",
    "    rank = np.array(list(range(1,len(dataFrame)+1))) \n",
    "    dataFrame[forth] = rank\n",
    "    dataFrame = dataFrame.reset_index(drop=True)\n",
    "    return dataFrame\n",
    "            \n",
    "            "
   ]
  },
  {
   "cell_type": "code",
   "execution_count": 7,
   "metadata": {
    "collapsed": false
   },
   "outputs": [],
   "source": [
    "def produce_wordRank_charRank_frame(pd_word,pd_char,longest):\n",
    "    \n",
    "    D = {}\n",
    "    \n",
    "    char_array = pd_char[\"char\"]\n",
    "    char_rank = {}\n",
    "    \n",
    "    for i in range(len(pd_char)):\n",
    "        char_rank[char_array[i]] = i + 1 \n",
    "    \n",
    "    for i in range(longest):\n",
    "        D[i] = []\n",
    "    \n",
    "    word_array = pd_word[\"word\"]\n",
    "    \n",
    "    for word in word_array:\n",
    "        for i in range(len(word)):\n",
    "            D[i].append(int(char_rank[word[i]]))\n",
    "        \n",
    "        if len(word) < longest:\n",
    "            for j in range(len(word),longest):\n",
    "                D[j].append(np.nan)\n",
    "    \n",
    "    for k in range(longest):\n",
    "        feature = str(k) + \"th\"+\"_char\"\n",
    "        pd_word[feature] = np.array(D[k])\n",
    "    \n",
    "    return pd_word  "
   ]
  },
  {
   "cell_type": "code",
   "execution_count": 8,
   "metadata": {
    "collapsed": true
   },
   "outputs": [],
   "source": [
    "def main(file_name, encode = \"UTF-8\"):\n",
    "    l, longest_l = read_file(file_name,encode)\n",
    "    word_freq = count_frequency(l)\n",
    "    print(\"Successfully count word freqency!\")\n",
    "    word_seq, word_list = decide_seq_order(l)\n",
    "    c_list = transfrom_wordlist_into_charlist(l)\n",
    "    char_seq, char_list = decide_seq_order(c_list)\n",
    "    char_freq = count_frequency(c_list)\n",
    "    print(\"Successfully count char freqency!\")\n",
    "    pd_word= produce_data_frame(word_list, word_freq, word_seq,\"word\")\n",
    "    pd_char= produce_data_frame(char_list, char_freq, char_seq,\"char\")\n",
    "    data_frame = produce_wordRank_charRank_frame(pd_word,pd_char,longest_l)\n",
    "    print(\"Successfully build data frames!\")\n",
    "    return data_frame, pd_char, pd_word"
   ]
  },
  {
   "cell_type": "markdown",
   "metadata": {},
   "source": [
    "###  Change the code below when you want to make statistical counting of the other text file."
   ]
  },
  {
   "cell_type": "code",
   "execution_count": 9,
   "metadata": {
    "collapsed": false
   },
   "outputs": [
    {
     "name": "stdout",
     "output_type": "stream",
     "text": [
      "Read file successfully!\n",
      "Successfully count word freqency!\n",
      "Successfully count char freqency!\n",
      "Successfully build data frames!\n"
     ]
    }
   ],
   "source": [
    "#encode = \"UTF-16\" #(1)\n",
    "encode = \"UTF-8\"   #(2)\n",
    "##if anything goes into trouble, use (1) instead of (2), and vise versa.\n",
    "filename = \"fake2char_Viet3.txt\" #change filename when you want to get statictical information of another\n",
    "##text file.\n",
    "big, char, word = main(filename,encode) "
   ]
  },
  {
   "cell_type": "code",
   "execution_count": 10,
   "metadata": {
    "collapsed": true
   },
   "outputs": [],
   "source": [
    "#feel free to uncomment the following code if you want to save data frames into .csv files.\n",
    "#char.to_csv('out1.csv', sep=',')\n",
    "#word.to_csv('out2.csv', sep=',')\n",
    "#big.to_csv(\"out3.csv\",sep = \",\")"
   ]
  },
  {
   "cell_type": "code",
   "execution_count": 11,
   "metadata": {
    "collapsed": false
   },
   "outputs": [
    {
     "data": {
      "text/html": [
       "<div>\n",
       "<table border=\"1\" class=\"dataframe\">\n",
       "  <thead>\n",
       "    <tr style=\"text-align: right;\">\n",
       "      <th></th>\n",
       "      <th>word</th>\n",
       "      <th>wordFreq</th>\n",
       "      <th>wordSeqOrder</th>\n",
       "      <th>wordRank</th>\n",
       "      <th>0th_char</th>\n",
       "      <th>1th_char</th>\n",
       "      <th>2th_char</th>\n",
       "    </tr>\n",
       "  </thead>\n",
       "  <tbody>\n",
       "    <tr>\n",
       "      <th>0</th>\n",
       "      <td>輕微輕</td>\n",
       "      <td>93</td>\n",
       "      <td>108</td>\n",
       "      <td>1</td>\n",
       "      <td>1</td>\n",
       "      <td>2</td>\n",
       "      <td>1</td>\n",
       "    </tr>\n",
       "    <tr>\n",
       "      <th>1</th>\n",
       "      <td>輕微燒</td>\n",
       "      <td>47</td>\n",
       "      <td>4</td>\n",
       "      <td>2</td>\n",
       "      <td>1</td>\n",
       "      <td>2</td>\n",
       "      <td>3</td>\n",
       "    </tr>\n",
       "    <tr>\n",
       "      <th>2</th>\n",
       "      <td>燒餅輕</td>\n",
       "      <td>39</td>\n",
       "      <td>258</td>\n",
       "      <td>3</td>\n",
       "      <td>3</td>\n",
       "      <td>6</td>\n",
       "      <td>1</td>\n",
       "    </tr>\n",
       "    <tr>\n",
       "      <th>3</th>\n",
       "      <td>應酬輕</td>\n",
       "      <td>37</td>\n",
       "      <td>403</td>\n",
       "      <td>4</td>\n",
       "      <td>4</td>\n",
       "      <td>8</td>\n",
       "      <td>1</td>\n",
       "    </tr>\n",
       "    <tr>\n",
       "      <th>4</th>\n",
       "      <td>燒餅燒</td>\n",
       "      <td>31</td>\n",
       "      <td>9</td>\n",
       "      <td>5</td>\n",
       "      <td>3</td>\n",
       "      <td>6</td>\n",
       "      <td>3</td>\n",
       "    </tr>\n",
       "  </tbody>\n",
       "</table>\n",
       "</div>"
      ],
      "text/plain": [
       "  word  wordFreq  wordSeqOrder  wordRank  0th_char  1th_char  2th_char\n",
       "0  輕微輕        93           108         1         1         2         1\n",
       "1  輕微燒        47             4         2         1         2         3\n",
       "2  燒餅輕        39           258         3         3         6         1\n",
       "3  應酬輕        37           403         4         4         8         1\n",
       "4  燒餅燒        31             9         5         3         6         3"
      ]
     },
     "execution_count": 11,
     "metadata": {},
     "output_type": "execute_result"
    }
   ],
   "source": [
    "big.head()"
   ]
  },
  {
   "cell_type": "code",
   "execution_count": 12,
   "metadata": {
    "collapsed": false
   },
   "outputs": [
    {
     "data": {
      "text/html": [
       "<div>\n",
       "<table border=\"1\" class=\"dataframe\">\n",
       "  <thead>\n",
       "    <tr style=\"text-align: right;\">\n",
       "      <th></th>\n",
       "      <th>char</th>\n",
       "      <th>charFreq</th>\n",
       "      <th>charSeqOrder</th>\n",
       "      <th>charRank</th>\n",
       "    </tr>\n",
       "  </thead>\n",
       "  <tbody>\n",
       "    <tr>\n",
       "      <th>0</th>\n",
       "      <td>輕</td>\n",
       "      <td>1618</td>\n",
       "      <td>10</td>\n",
       "      <td>1</td>\n",
       "    </tr>\n",
       "    <tr>\n",
       "      <th>1</th>\n",
       "      <td>微</td>\n",
       "      <td>828</td>\n",
       "      <td>11</td>\n",
       "      <td>2</td>\n",
       "    </tr>\n",
       "    <tr>\n",
       "      <th>2</th>\n",
       "      <td>燒</td>\n",
       "      <td>804</td>\n",
       "      <td>12</td>\n",
       "      <td>3</td>\n",
       "    </tr>\n",
       "    <tr>\n",
       "      <th>3</th>\n",
       "      <td>應</td>\n",
       "      <td>556</td>\n",
       "      <td>9</td>\n",
       "      <td>4</td>\n",
       "    </tr>\n",
       "    <tr>\n",
       "      <th>4</th>\n",
       "      <td>總</td>\n",
       "      <td>433</td>\n",
       "      <td>1</td>\n",
       "      <td>5</td>\n",
       "    </tr>\n",
       "  </tbody>\n",
       "</table>\n",
       "</div>"
      ],
      "text/plain": [
       "  char  charFreq  charSeqOrder  charRank\n",
       "0    輕      1618            10         1\n",
       "1    微       828            11         2\n",
       "2    燒       804            12         3\n",
       "3    應       556             9         4\n",
       "4    總       433             1         5"
      ]
     },
     "execution_count": 12,
     "metadata": {},
     "output_type": "execute_result"
    }
   ],
   "source": [
    "char.head()"
   ]
  },
  {
   "cell_type": "code",
   "execution_count": 13,
   "metadata": {
    "collapsed": false
   },
   "outputs": [
    {
     "data": {
      "text/html": [
       "<div>\n",
       "<table border=\"1\" class=\"dataframe\">\n",
       "  <thead>\n",
       "    <tr style=\"text-align: right;\">\n",
       "      <th></th>\n",
       "      <th>word</th>\n",
       "      <th>wordFreq</th>\n",
       "      <th>wordSeqOrder</th>\n",
       "      <th>wordRank</th>\n",
       "      <th>0th_char</th>\n",
       "      <th>1th_char</th>\n",
       "      <th>2th_char</th>\n",
       "    </tr>\n",
       "  </thead>\n",
       "  <tbody>\n",
       "    <tr>\n",
       "      <th>0</th>\n",
       "      <td>輕微輕</td>\n",
       "      <td>93</td>\n",
       "      <td>108</td>\n",
       "      <td>1</td>\n",
       "      <td>1</td>\n",
       "      <td>2</td>\n",
       "      <td>1</td>\n",
       "    </tr>\n",
       "    <tr>\n",
       "      <th>1</th>\n",
       "      <td>輕微燒</td>\n",
       "      <td>47</td>\n",
       "      <td>4</td>\n",
       "      <td>2</td>\n",
       "      <td>1</td>\n",
       "      <td>2</td>\n",
       "      <td>3</td>\n",
       "    </tr>\n",
       "    <tr>\n",
       "      <th>2</th>\n",
       "      <td>燒餅輕</td>\n",
       "      <td>39</td>\n",
       "      <td>258</td>\n",
       "      <td>3</td>\n",
       "      <td>3</td>\n",
       "      <td>6</td>\n",
       "      <td>1</td>\n",
       "    </tr>\n",
       "    <tr>\n",
       "      <th>3</th>\n",
       "      <td>應酬輕</td>\n",
       "      <td>37</td>\n",
       "      <td>403</td>\n",
       "      <td>4</td>\n",
       "      <td>4</td>\n",
       "      <td>8</td>\n",
       "      <td>1</td>\n",
       "    </tr>\n",
       "    <tr>\n",
       "      <th>4</th>\n",
       "      <td>燒餅燒</td>\n",
       "      <td>31</td>\n",
       "      <td>9</td>\n",
       "      <td>5</td>\n",
       "      <td>3</td>\n",
       "      <td>6</td>\n",
       "      <td>3</td>\n",
       "    </tr>\n",
       "  </tbody>\n",
       "</table>\n",
       "</div>"
      ],
      "text/plain": [
       "  word  wordFreq  wordSeqOrder  wordRank  0th_char  1th_char  2th_char\n",
       "0  輕微輕        93           108         1         1         2         1\n",
       "1  輕微燒        47             4         2         1         2         3\n",
       "2  燒餅輕        39           258         3         3         6         1\n",
       "3  應酬輕        37           403         4         4         8         1\n",
       "4  燒餅燒        31             9         5         3         6         3"
      ]
     },
     "execution_count": 13,
     "metadata": {},
     "output_type": "execute_result"
    }
   ],
   "source": [
    "word.head()"
   ]
  },
  {
   "cell_type": "code",
   "execution_count": null,
   "metadata": {
    "collapsed": true
   },
   "outputs": [],
   "source": []
  }
 ],
 "metadata": {
  "kernelspec": {
   "display_name": "Python 3",
   "language": "python",
   "name": "python3"
  },
  "language_info": {
   "codemirror_mode": {
    "name": "ipython",
    "version": 3
   },
   "file_extension": ".py",
   "mimetype": "text/x-python",
   "name": "python",
   "nbconvert_exporter": "python",
   "pygments_lexer": "ipython3",
   "version": "3.5.1"
  }
 },
 "nbformat": 4,
 "nbformat_minor": 0
}
